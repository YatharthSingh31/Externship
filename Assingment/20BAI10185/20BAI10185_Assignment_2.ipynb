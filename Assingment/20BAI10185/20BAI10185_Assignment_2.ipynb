{
  "nbformat": 4,
  "nbformat_minor": 0,
  "metadata": {
    "colab": {
      "provenance": []
    },
    "kernelspec": {
      "name": "python3",
      "display_name": "Python 3"
    },
    "language_info": {
      "name": "python"
    }
  },
  "cells": [
    {
      "cell_type": "code",
      "execution_count": 1,
      "metadata": {
        "id": "Czq5uCl6hLQ-"
      },
      "outputs": [],
      "source": [
        "#importing required libraries\n",
        "\n",
        "import numpy as np\n",
        "import pandas as pd\n",
        "import seaborn as sb\n",
        "import matplotlib.pyplot as mp\n",
        "import tensorflow as tf\n",
        "from tensorflow import keras\n",
        "from tensorflow.keras import Sequential\n",
        "from tensorflow.keras.layers import Flatten,Dense\n",
        "from sklearn.preprocessing import LabelEncoder\n",
        "from sklearn.model_selection import train_test_split"
      ]
    },
    {
      "cell_type": "code",
      "source": [
        "#importing dataset\n",
        "df = pd.read_csv('/content/drug200.csv')\n",
        "df.head()"
      ],
      "metadata": {
        "id": "z_B0ic2ctbzJ",
        "colab": {
          "base_uri": "https://localhost:8080/",
          "height": 206
        },
        "outputId": "2289e98d-2bfa-4972-80eb-44de9ca3a7c7"
      },
      "execution_count": 4,
      "outputs": [
        {
          "output_type": "execute_result",
          "data": {
            "text/plain": [
              "   Age Sex      BP Cholesterol  Na_to_K   Drug\n",
              "0   23   F    HIGH        HIGH   25.355  DrugY\n",
              "1   47   M     LOW        HIGH   13.093  drugC\n",
              "2   47   M     LOW        HIGH   10.114  drugC\n",
              "3   28   F  NORMAL        HIGH    7.798  drugX\n",
              "4   61   F     LOW        HIGH   18.043  DrugY"
            ],
            "text/html": [
              "\n",
              "  <div id=\"df-5855382c-dd93-45c2-9a14-48bdcba7f655\">\n",
              "    <div class=\"colab-df-container\">\n",
              "      <div>\n",
              "<style scoped>\n",
              "    .dataframe tbody tr th:only-of-type {\n",
              "        vertical-align: middle;\n",
              "    }\n",
              "\n",
              "    .dataframe tbody tr th {\n",
              "        vertical-align: top;\n",
              "    }\n",
              "\n",
              "    .dataframe thead th {\n",
              "        text-align: right;\n",
              "    }\n",
              "</style>\n",
              "<table border=\"1\" class=\"dataframe\">\n",
              "  <thead>\n",
              "    <tr style=\"text-align: right;\">\n",
              "      <th></th>\n",
              "      <th>Age</th>\n",
              "      <th>Sex</th>\n",
              "      <th>BP</th>\n",
              "      <th>Cholesterol</th>\n",
              "      <th>Na_to_K</th>\n",
              "      <th>Drug</th>\n",
              "    </tr>\n",
              "  </thead>\n",
              "  <tbody>\n",
              "    <tr>\n",
              "      <th>0</th>\n",
              "      <td>23</td>\n",
              "      <td>F</td>\n",
              "      <td>HIGH</td>\n",
              "      <td>HIGH</td>\n",
              "      <td>25.355</td>\n",
              "      <td>DrugY</td>\n",
              "    </tr>\n",
              "    <tr>\n",
              "      <th>1</th>\n",
              "      <td>47</td>\n",
              "      <td>M</td>\n",
              "      <td>LOW</td>\n",
              "      <td>HIGH</td>\n",
              "      <td>13.093</td>\n",
              "      <td>drugC</td>\n",
              "    </tr>\n",
              "    <tr>\n",
              "      <th>2</th>\n",
              "      <td>47</td>\n",
              "      <td>M</td>\n",
              "      <td>LOW</td>\n",
              "      <td>HIGH</td>\n",
              "      <td>10.114</td>\n",
              "      <td>drugC</td>\n",
              "    </tr>\n",
              "    <tr>\n",
              "      <th>3</th>\n",
              "      <td>28</td>\n",
              "      <td>F</td>\n",
              "      <td>NORMAL</td>\n",
              "      <td>HIGH</td>\n",
              "      <td>7.798</td>\n",
              "      <td>drugX</td>\n",
              "    </tr>\n",
              "    <tr>\n",
              "      <th>4</th>\n",
              "      <td>61</td>\n",
              "      <td>F</td>\n",
              "      <td>LOW</td>\n",
              "      <td>HIGH</td>\n",
              "      <td>18.043</td>\n",
              "      <td>DrugY</td>\n",
              "    </tr>\n",
              "  </tbody>\n",
              "</table>\n",
              "</div>\n",
              "      <button class=\"colab-df-convert\" onclick=\"convertToInteractive('df-5855382c-dd93-45c2-9a14-48bdcba7f655')\"\n",
              "              title=\"Convert this dataframe to an interactive table.\"\n",
              "              style=\"display:none;\">\n",
              "        \n",
              "  <svg xmlns=\"http://www.w3.org/2000/svg\" height=\"24px\"viewBox=\"0 0 24 24\"\n",
              "       width=\"24px\">\n",
              "    <path d=\"M0 0h24v24H0V0z\" fill=\"none\"/>\n",
              "    <path d=\"M18.56 5.44l.94 2.06.94-2.06 2.06-.94-2.06-.94-.94-2.06-.94 2.06-2.06.94zm-11 1L8.5 8.5l.94-2.06 2.06-.94-2.06-.94L8.5 2.5l-.94 2.06-2.06.94zm10 10l.94 2.06.94-2.06 2.06-.94-2.06-.94-.94-2.06-.94 2.06-2.06.94z\"/><path d=\"M17.41 7.96l-1.37-1.37c-.4-.4-.92-.59-1.43-.59-.52 0-1.04.2-1.43.59L10.3 9.45l-7.72 7.72c-.78.78-.78 2.05 0 2.83L4 21.41c.39.39.9.59 1.41.59.51 0 1.02-.2 1.41-.59l7.78-7.78 2.81-2.81c.8-.78.8-2.07 0-2.86zM5.41 20L4 18.59l7.72-7.72 1.47 1.35L5.41 20z\"/>\n",
              "  </svg>\n",
              "      </button>\n",
              "      \n",
              "  <style>\n",
              "    .colab-df-container {\n",
              "      display:flex;\n",
              "      flex-wrap:wrap;\n",
              "      gap: 12px;\n",
              "    }\n",
              "\n",
              "    .colab-df-convert {\n",
              "      background-color: #E8F0FE;\n",
              "      border: none;\n",
              "      border-radius: 50%;\n",
              "      cursor: pointer;\n",
              "      display: none;\n",
              "      fill: #1967D2;\n",
              "      height: 32px;\n",
              "      padding: 0 0 0 0;\n",
              "      width: 32px;\n",
              "    }\n",
              "\n",
              "    .colab-df-convert:hover {\n",
              "      background-color: #E2EBFA;\n",
              "      box-shadow: 0px 1px 2px rgba(60, 64, 67, 0.3), 0px 1px 3px 1px rgba(60, 64, 67, 0.15);\n",
              "      fill: #174EA6;\n",
              "    }\n",
              "\n",
              "    [theme=dark] .colab-df-convert {\n",
              "      background-color: #3B4455;\n",
              "      fill: #D2E3FC;\n",
              "    }\n",
              "\n",
              "    [theme=dark] .colab-df-convert:hover {\n",
              "      background-color: #434B5C;\n",
              "      box-shadow: 0px 1px 3px 1px rgba(0, 0, 0, 0.15);\n",
              "      filter: drop-shadow(0px 1px 2px rgba(0, 0, 0, 0.3));\n",
              "      fill: #FFFFFF;\n",
              "    }\n",
              "  </style>\n",
              "\n",
              "      <script>\n",
              "        const buttonEl =\n",
              "          document.querySelector('#df-5855382c-dd93-45c2-9a14-48bdcba7f655 button.colab-df-convert');\n",
              "        buttonEl.style.display =\n",
              "          google.colab.kernel.accessAllowed ? 'block' : 'none';\n",
              "\n",
              "        async function convertToInteractive(key) {\n",
              "          const element = document.querySelector('#df-5855382c-dd93-45c2-9a14-48bdcba7f655');\n",
              "          const dataTable =\n",
              "            await google.colab.kernel.invokeFunction('convertToInteractive',\n",
              "                                                     [key], {});\n",
              "          if (!dataTable) return;\n",
              "\n",
              "          const docLinkHtml = 'Like what you see? Visit the ' +\n",
              "            '<a target=\"_blank\" href=https://colab.research.google.com/notebooks/data_table.ipynb>data table notebook</a>'\n",
              "            + ' to learn more about interactive tables.';\n",
              "          element.innerHTML = '';\n",
              "          dataTable['output_type'] = 'display_data';\n",
              "          await google.colab.output.renderOutput(dataTable, element);\n",
              "          const docLink = document.createElement('div');\n",
              "          docLink.innerHTML = docLinkHtml;\n",
              "          element.appendChild(docLink);\n",
              "        }\n",
              "      </script>\n",
              "    </div>\n",
              "  </div>\n",
              "  "
            ]
          },
          "metadata": {},
          "execution_count": 4
        }
      ]
    },
    {
      "cell_type": "code",
      "source": [
        "df.shape"
      ],
      "metadata": {
        "colab": {
          "base_uri": "https://localhost:8080/"
        },
        "id": "Mv-UeePXzGaF",
        "outputId": "5d21984b-ca7f-47a9-b14e-ed2e448c851e"
      },
      "execution_count": 8,
      "outputs": [
        {
          "output_type": "execute_result",
          "data": {
            "text/plain": [
              "(200, 6)"
            ]
          },
          "metadata": {},
          "execution_count": 8
        }
      ]
    },
    {
      "cell_type": "code",
      "source": [
        "df.info()"
      ],
      "metadata": {
        "colab": {
          "base_uri": "https://localhost:8080/"
        },
        "id": "PX_sUEldzQx9",
        "outputId": "6e724a5f-1b0c-4e27-a77f-be404b34613d"
      },
      "execution_count": 6,
      "outputs": [
        {
          "output_type": "stream",
          "name": "stdout",
          "text": [
            "<class 'pandas.core.frame.DataFrame'>\n",
            "RangeIndex: 200 entries, 0 to 199\n",
            "Data columns (total 6 columns):\n",
            " #   Column       Non-Null Count  Dtype  \n",
            "---  ------       --------------  -----  \n",
            " 0   Age          200 non-null    int64  \n",
            " 1   Sex          200 non-null    object \n",
            " 2   BP           200 non-null    object \n",
            " 3   Cholesterol  200 non-null    object \n",
            " 4   Na_to_K      200 non-null    float64\n",
            " 5   Drug         200 non-null    object \n",
            "dtypes: float64(1), int64(1), object(4)\n",
            "memory usage: 9.5+ KB\n"
          ]
        }
      ]
    },
    {
      "cell_type": "code",
      "source": [
        "X = df.drop(columns = ['Drug'],axis=1)\n",
        "Y = df['Drug']"
      ],
      "metadata": {
        "id": "EFZNaieszUH2"
      },
      "execution_count": 9,
      "outputs": []
    },
    {
      "cell_type": "code",
      "source": [
        "Y_class = len(np.unique(Y))\n",
        "print(Y_class)"
      ],
      "metadata": {
        "colab": {
          "base_uri": "https://localhost:8080/"
        },
        "id": "PY6PXRBS0Jz-",
        "outputId": "d3a32190-99a8-4104-f465-1b83ce229c61"
      },
      "execution_count": 10,
      "outputs": [
        {
          "output_type": "stream",
          "name": "stdout",
          "text": [
            "5\n"
          ]
        }
      ]
    },
    {
      "cell_type": "code",
      "source": [
        "#Convert the Categorical data into interger data\n",
        "\n",
        "X = pd.get_dummies(X,columns=['Sex','BP','Cholesterol'],drop_first = True)\n",
        "\n",
        "le = LabelEncoder()\n",
        "Y = le.fit_transform(Y)"
      ],
      "metadata": {
        "id": "3yhH8Fns0UwW"
      },
      "execution_count": 11,
      "outputs": []
    },
    {
      "cell_type": "code",
      "source": [
        "#Train test split\n",
        "X_train, X_test, Y_train, Y_test = train_test_split (X,Y,test_size=0.25,random_state=12)"
      ],
      "metadata": {
        "id": "8dps6BrK0nwm"
      },
      "execution_count": 12,
      "outputs": []
    },
    {
      "cell_type": "code",
      "source": [
        "#Feature scaling\n",
        "from sklearn.preprocessing import StandardScaler\n",
        "sc = StandardScaler()\n",
        "X_train = sc.fit_transform(X_train)\n",
        "X_test = sc.fit_transform(X_test)"
      ],
      "metadata": {
        "id": "y04LEoBP06Pk"
      },
      "execution_count": 14,
      "outputs": []
    },
    {
      "cell_type": "code",
      "source": [
        "#converting Y into one-hot-encoded array\n",
        "\n",
        "#the to_categorical() function from the Keras library to convert the target variable\n",
        "# arrays Y_train and Y_test into one-hot encoded arrays.\n",
        "\n",
        "Y_train = keras.utils.to_categorical(Y_train)\n",
        "Y_test = keras.utils.to_categorical(Y_test)"
      ],
      "metadata": {
        "id": "nzJmI1k71JiN"
      },
      "execution_count": 15,
      "outputs": []
    },
    {
      "cell_type": "code",
      "source": [
        "#creating model\n",
        "\n",
        "model = Sequential()\n",
        "model.add(Dense(48, input_dim=6, activation='relu'))\n",
        "model.add(Dense(32, activation='relu'))\n",
        "model.add(Dense(32, activation='relu'))\n",
        "model.add(Dense(16, activation='relu'))\n",
        "model.add(Dense(Y_class ,activation='softmax'))\n",
        "\n",
        "#compile model\n",
        "model.compile(loss='categorical_crossentropy', optimizer='adam', metrics=['accuracy'])"
      ],
      "metadata": {
        "id": "IANCAuae166F"
      },
      "execution_count": 17,
      "outputs": []
    },
    {
      "cell_type": "code",
      "source": [
        "model.summary()"
      ],
      "metadata": {
        "id": "qld8W2jk2F6l",
        "outputId": "cf0e1ed4-4b1d-4b3f-f605-aa78cee6a881",
        "colab": {
          "base_uri": "https://localhost:8080/"
        }
      },
      "execution_count": 18,
      "outputs": [
        {
          "output_type": "stream",
          "name": "stdout",
          "text": [
            "Model: \"sequential_1\"\n",
            "_________________________________________________________________\n",
            " Layer (type)                Output Shape              Param #   \n",
            "=================================================================\n",
            " dense (Dense)               (None, 48)                336       \n",
            "                                                                 \n",
            " dense_1 (Dense)             (None, 32)                1568      \n",
            "                                                                 \n",
            " dense_2 (Dense)             (None, 32)                1056      \n",
            "                                                                 \n",
            " dense_3 (Dense)             (None, 16)                528       \n",
            "                                                                 \n",
            " dense_4 (Dense)             (None, 5)                 85        \n",
            "                                                                 \n",
            "=================================================================\n",
            "Total params: 3,573\n",
            "Trainable params: 3,573\n",
            "Non-trainable params: 0\n",
            "_________________________________________________________________\n"
          ]
        }
      ]
    },
    {
      "cell_type": "code",
      "source": [
        "#model training\n",
        "model.fit(X_train,Y_train,epochs=47,batch_size=6)"
      ],
      "metadata": {
        "id": "XDpZT0KY3OTm",
        "outputId": "cc7a128c-1f7e-4937-8735-480e557921e0",
        "colab": {
          "base_uri": "https://localhost:8080/"
        }
      },
      "execution_count": 21,
      "outputs": [
        {
          "output_type": "stream",
          "name": "stdout",
          "text": [
            "Epoch 1/47\n",
            "25/25 [==============================] - 0s 3ms/step - loss: 0.0463 - accuracy: 0.9933\n",
            "Epoch 2/47\n",
            "25/25 [==============================] - 0s 3ms/step - loss: 0.0057 - accuracy: 1.0000\n",
            "Epoch 3/47\n",
            "25/25 [==============================] - 0s 5ms/step - loss: 0.0042 - accuracy: 1.0000\n",
            "Epoch 4/47\n",
            "25/25 [==============================] - 0s 4ms/step - loss: 0.0040 - accuracy: 1.0000\n",
            "Epoch 5/47\n",
            "25/25 [==============================] - 0s 6ms/step - loss: 0.0025 - accuracy: 1.0000\n",
            "Epoch 6/47\n",
            "25/25 [==============================] - 0s 6ms/step - loss: 0.0022 - accuracy: 1.0000\n",
            "Epoch 7/47\n",
            "25/25 [==============================] - 0s 5ms/step - loss: 0.0020 - accuracy: 1.0000\n",
            "Epoch 8/47\n",
            "25/25 [==============================] - 0s 4ms/step - loss: 0.0020 - accuracy: 1.0000\n",
            "Epoch 9/47\n",
            "25/25 [==============================] - 0s 3ms/step - loss: 0.0018 - accuracy: 1.0000\n",
            "Epoch 10/47\n",
            "25/25 [==============================] - 0s 3ms/step - loss: 0.0017 - accuracy: 1.0000\n",
            "Epoch 11/47\n",
            "25/25 [==============================] - 0s 3ms/step - loss: 0.0017 - accuracy: 1.0000\n",
            "Epoch 12/47\n",
            "25/25 [==============================] - 0s 3ms/step - loss: 0.0016 - accuracy: 1.0000\n",
            "Epoch 13/47\n",
            "25/25 [==============================] - 0s 3ms/step - loss: 0.0015 - accuracy: 1.0000\n",
            "Epoch 14/47\n",
            "25/25 [==============================] - 0s 3ms/step - loss: 0.0014 - accuracy: 1.0000\n",
            "Epoch 15/47\n",
            "25/25 [==============================] - 0s 3ms/step - loss: 0.0014 - accuracy: 1.0000\n",
            "Epoch 16/47\n",
            "25/25 [==============================] - 0s 3ms/step - loss: 0.0013 - accuracy: 1.0000\n",
            "Epoch 17/47\n",
            "25/25 [==============================] - 0s 3ms/step - loss: 0.0013 - accuracy: 1.0000\n",
            "Epoch 18/47\n",
            "25/25 [==============================] - 0s 3ms/step - loss: 0.0012 - accuracy: 1.0000\n",
            "Epoch 19/47\n",
            "25/25 [==============================] - 0s 3ms/step - loss: 0.0012 - accuracy: 1.0000\n",
            "Epoch 20/47\n",
            "25/25 [==============================] - 0s 3ms/step - loss: 0.0011 - accuracy: 1.0000\n",
            "Epoch 21/47\n",
            "25/25 [==============================] - 0s 3ms/step - loss: 0.0011 - accuracy: 1.0000\n",
            "Epoch 22/47\n",
            "25/25 [==============================] - 0s 3ms/step - loss: 0.0010 - accuracy: 1.0000\n",
            "Epoch 23/47\n",
            "25/25 [==============================] - 0s 3ms/step - loss: 9.9298e-04 - accuracy: 1.0000\n",
            "Epoch 24/47\n",
            "25/25 [==============================] - 0s 3ms/step - loss: 9.7287e-04 - accuracy: 1.0000\n",
            "Epoch 25/47\n",
            "25/25 [==============================] - 0s 3ms/step - loss: 9.3101e-04 - accuracy: 1.0000\n",
            "Epoch 26/47\n",
            "25/25 [==============================] - 0s 3ms/step - loss: 9.9344e-04 - accuracy: 1.0000\n",
            "Epoch 27/47\n",
            "25/25 [==============================] - 0s 3ms/step - loss: 8.9661e-04 - accuracy: 1.0000\n",
            "Epoch 28/47\n",
            "25/25 [==============================] - 0s 3ms/step - loss: 8.5555e-04 - accuracy: 1.0000\n",
            "Epoch 29/47\n",
            "25/25 [==============================] - 0s 3ms/step - loss: 8.3059e-04 - accuracy: 1.0000\n",
            "Epoch 30/47\n",
            "25/25 [==============================] - 0s 3ms/step - loss: 8.0715e-04 - accuracy: 1.0000\n",
            "Epoch 31/47\n",
            "25/25 [==============================] - 0s 3ms/step - loss: 7.7706e-04 - accuracy: 1.0000\n",
            "Epoch 32/47\n",
            "25/25 [==============================] - 0s 3ms/step - loss: 7.6537e-04 - accuracy: 1.0000\n",
            "Epoch 33/47\n",
            "25/25 [==============================] - 0s 2ms/step - loss: 8.0083e-04 - accuracy: 1.0000\n",
            "Epoch 34/47\n",
            "25/25 [==============================] - 0s 2ms/step - loss: 7.5528e-04 - accuracy: 1.0000\n",
            "Epoch 35/47\n",
            "25/25 [==============================] - 0s 2ms/step - loss: 6.7652e-04 - accuracy: 1.0000\n",
            "Epoch 36/47\n",
            "25/25 [==============================] - 0s 3ms/step - loss: 7.1039e-04 - accuracy: 1.0000\n",
            "Epoch 37/47\n",
            "25/25 [==============================] - 0s 3ms/step - loss: 6.1953e-04 - accuracy: 1.0000\n",
            "Epoch 38/47\n",
            "25/25 [==============================] - 0s 3ms/step - loss: 6.3122e-04 - accuracy: 1.0000\n",
            "Epoch 39/47\n",
            "25/25 [==============================] - 0s 3ms/step - loss: 6.0084e-04 - accuracy: 1.0000\n",
            "Epoch 40/47\n",
            "25/25 [==============================] - 0s 3ms/step - loss: 6.1095e-04 - accuracy: 1.0000\n",
            "Epoch 41/47\n",
            "25/25 [==============================] - 0s 3ms/step - loss: 6.0076e-04 - accuracy: 1.0000\n",
            "Epoch 42/47\n",
            "25/25 [==============================] - 0s 3ms/step - loss: 5.4885e-04 - accuracy: 1.0000\n",
            "Epoch 43/47\n",
            "25/25 [==============================] - 0s 3ms/step - loss: 5.3041e-04 - accuracy: 1.0000\n",
            "Epoch 44/47\n",
            "25/25 [==============================] - 0s 2ms/step - loss: 5.3860e-04 - accuracy: 1.0000\n",
            "Epoch 45/47\n",
            "25/25 [==============================] - 0s 2ms/step - loss: 5.3702e-04 - accuracy: 1.0000\n",
            "Epoch 46/47\n",
            "25/25 [==============================] - 0s 2ms/step - loss: 5.0957e-04 - accuracy: 1.0000\n",
            "Epoch 47/47\n",
            "25/25 [==============================] - 0s 2ms/step - loss: 5.2220e-04 - accuracy: 1.0000\n"
          ]
        },
        {
          "output_type": "execute_result",
          "data": {
            "text/plain": [
              "<keras.callbacks.History at 0x7f8e9a271d20>"
            ]
          },
          "metadata": {},
          "execution_count": 21
        }
      ]
    },
    {
      "cell_type": "code",
      "source": [
        "#accuracy check\n",
        "test_loss, test_acc = model.evaluate(X_test, Y_test)\n",
        "print('Test accuracy:', test_acc * 100)"
      ],
      "metadata": {
        "id": "qDeRVf0F3btN",
        "outputId": "89b9db05-f71b-4864-98f6-88ad46f1fadc",
        "colab": {
          "base_uri": "https://localhost:8080/"
        }
      },
      "execution_count": 22,
      "outputs": [
        {
          "output_type": "stream",
          "name": "stdout",
          "text": [
            "2/2 [==============================] - 0s 12ms/step - loss: 0.3160 - accuracy: 0.9600\n",
            "Test accuracy: 95.99999785423279\n"
          ]
        }
      ]
    },
    {
      "cell_type": "code",
      "source": [],
      "metadata": {
        "id": "zPcCnNy83jQV"
      },
      "execution_count": null,
      "outputs": []
    }
  ]
}